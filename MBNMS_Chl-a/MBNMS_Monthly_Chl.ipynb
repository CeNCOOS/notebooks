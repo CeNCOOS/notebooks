{
 "cells": [
  {
   "cell_type": "code",
   "execution_count": 1,
   "metadata": {},
   "outputs": [
    {
     "name": "stderr",
     "output_type": "stream",
     "text": [
      "/anaconda3/lib/python3.6/site-packages/dask/config.py:168: YAMLLoadWarning: calling yaml.load() without Loader=... is deprecated, as the default Loader is unsafe. Please read https://msg.pyyaml.org/load for full details.\n",
      "  data = yaml.load(f.read()) or {}\n"
     ]
    }
   ],
   "source": [
    "import geopandas as gpd\n",
    "import xarray as xr\n",
    "from rasterio import features\n",
    "from affine import Affine\n",
    "import numpy as np\n",
    "import salem\n",
    "import matplotlib.pyplot as plt\n",
    "import pandas as pd\n",
    "from scipy import stats\n",
    "import matplotlib.dates as mdates\n",
    "import cmocean\n",
    "import cartopy.crs as ccrs\n",
    "import cartopy.feature as cfeature"
   ]
  },
  {
   "cell_type": "markdown",
   "metadata": {},
   "source": [
    "# MBNMS Chlorophyll-a #\n",
    "\n",
    "Monthly surface Chlorophyll-a data ranging from `2002-2019` was collected from the [Coastwatch Thredds server](https://oceanwatch.pfeg.noaa.gov/thredds/Satellite/aggregsatSA/chla/catalog.html).\n",
    "\n",
    "Data are lazy-loaded (meaning not downloaded into memory) into an xarray dataset wrapped with Salem. A mask is created from a shape file of the sanctuary and a spatial mean is taken for each month, creating a monthly timeseries."
   ]
  },
  {
   "cell_type": "markdown",
   "metadata": {},
   "source": [
    "__Load MBNMS Shape file data__"
   ]
  },
  {
   "cell_type": "code",
   "execution_count": 2,
   "metadata": {},
   "outputs": [
    {
     "data": {
      "text/plain": [
       "<matplotlib.axes._subplots.AxesSubplot at 0x12a2e5160>"
      ]
     },
     "execution_count": 2,
     "metadata": {},
     "output_type": "execute_result"
    },
    {
     "data": {
      "image/png": "[encoded data removed]",
      "text/plain": [
       "<Figure size 432x288 with 1 Axes>"
      ]
     },
     "metadata": {
      "needs_background": "light"
     },
     "output_type": "display_data"
    }
   ],
   "source": [
    "shdf= salem.read_shapefile(\"./mbnms shapefiles/mbnms_py2/mbnms_py.shp\")\n",
    "bbox = shdf.bounds\n",
    "shdf.plot(lw=3,edgecolor='k',color='None')"
   ]
  },
  {
   "cell_type": "code",
   "execution_count": 15,
   "metadata": {},
   "outputs": [
    {
     "data": {
      "text/plain": [
       "0    (POLYGON ((-122.5000000001226 35.5000000037708...\n",
       "Name: geometry, dtype: object"
      ]
     },
     "execution_count": 15,
     "metadata": {},
     "output_type": "execute_result"
    }
   ],
   "source": [
    "shdf['geometry']"
   ]
  },
  {
   "cell_type": "markdown",
   "metadata": {},
   "source": [
    "__Lazy load Monthly Modis Chl-a data from Coastwatch Thredds__\n",
    "\n",
    "This is a global products, so to make it more manageable, the dataset gets split up into the bounding box around the MBNMS."
   ]
  },
  {
   "cell_type": "code",
   "execution_count": 6,
   "metadata": {},
   "outputs": [
    {
     "data": {
      "text/plain": [
       "<xarray.Dataset>\n",
       "Dimensions:  (eightbitcolor: 256, lat: 57, lon: 49, rgb: 3, time: 194)\n",
       "Coordinates:\n",
       "  * lat      (lat) float32 37.854168 37.8125 37.770832 37.729168 37.6875 ...\n",
       "  * lon      (lon) float32 -123.104164 -123.06249 -123.02083 -122.979164 ...\n",
       "  * time     (time) datetime64[ns] 2003-01-16 2003-02-16 2003-03-16 ...\n",
       "Dimensions without coordinates: eightbitcolor, rgb\n",
       "Data variables:\n",
       "    palette  (rgb, eightbitcolor) float32 147.0 0.0 108.0 144.0 0.0 111.0 ...\n",
       "    chlor_a  (time, lat, lon) float32 2.123468 2.123468 2.516722 2.728228 ...\n",
       "Attributes:\n",
       "    product_name:                                          A20190012019031.L3...\n",
       "    instrument:                                            MODIS\n",
       "    title:                                                 MODISA Level-3 Sta...\n",
       "    project:                                               Ocean Biology Proc...\n",
       "    platform:                                              Aqua\n",
       "    temporal_range:                                        month\n",
       "    processing_version:                                    2018.0QL\n",
       "    date_created:                                          2019-02-21T11:15:5...\n",
       "    history:                                               l3mapgen par=A2019...\n",
       "    l2_flag_names:                                         ATMFAIL,LAND,HILT,...\n",
       "    time_coverage_start:                                   2019-01-01T00:30:0...\n",
       "    time_coverage_end:                                     2019-02-01T02:04:5...\n",
       "    start_orbit_number:                                    88624\n",
       "    end_orbit_number:                                      89077\n",
       "    map_projection:                                        Equidistant Cylind...\n",
       "    latitude_units:                                        degrees_north\n",
       "    longitude_units:                                       degrees_east\n",
       "    northernmost_latitude:                                 90.0\n",
       "    southernmost_latitude:                                 -90.0\n",
       "    westernmost_longitude:                                 -180.0\n",
       "    easternmost_longitude:                                 180.0\n",
       "    geospatial_lat_max:                                    90.0\n",
       "    geospatial_lat_min:                                    -90.0\n",
       "    geospatial_lon_max:                                    180.0\n",
       "    geospatial_lon_min:                                    -180.0\n",
       "    latitude_step:                                         0.041666668\n",
       "    longitude_step:                                        0.041666668\n",
       "    sw_point_latitude:                                     -89.979164\n",
       "    sw_point_longitude:                                    -179.97917\n",
       "    geospatial_lon_resolution:                             4.6383123\n",
       "    geospatial_lat_resolution:                             4.6383123\n",
       "    geospatial_lat_units:                                  degrees_north\n",
       "    geospatial_lon_units:                                  degrees_east\n",
       "    spatialResolution:                                     4.64 km\n",
       "    number_of_lines:                                       4320\n",
       "    number_of_columns:                                     8640\n",
       "    measure:                                               Mean\n",
       "    suggested_image_scaling_minimum:                       0.01\n",
       "    suggested_image_scaling_maximum:                       20.0\n",
       "    suggested_image_scaling_type:                          LOG\n",
       "    suggested_image_scaling_applied:                       No\n",
       "    _lastModified:                                         2019-02-21T11:15:5...\n",
       "    Conventions:                                           CF-1.6 ACDD-1.3\n",
       "    institution:                                           NASA Goddard Space...\n",
       "    standard_name_vocabulary:                              CF Standard Name T...\n",
       "    naming_authority:                                      gov.nasa.gsfc.sci....\n",
       "    id:                                                    A20190012019031.L3...\n",
       "    license:                                               http://science.nas...\n",
       "    creator_name:                                          NASA/GSFC/OBPG\n",
       "    publisher_name:                                        NASA/GSFC/OBPG\n",
       "    creator_email:                                         data@oceancolor.gs...\n",
       "    publisher_email:                                       data@oceancolor.gs...\n",
       "    creator_url:                                           http://oceandata.s...\n",
       "    publisher_url:                                         http://oceandata.s...\n",
       "    processing_level:                                      L3 Mapped\n",
       "    cdm_data_type:                                         grid\n",
       "    identifier_product_doi_authority:                      http://dx.doi.org\n",
       "    identifier_product_doi:                                10.5067/AQUA/MODIS...\n",
       "    keywords:                                              Earth Science > Oc...\n",
       "    keywords_vocabulary:                                   NASA Global Change...\n",
       "    data_bins:                                             17375462\n",
       "    data_minimum:                                          0.0077963746\n",
       "    data_maximum:                                          99.5597\n",
       "    processing_control_software_name:                      l3mapgen\n",
       "    processing_control_software_version:                   2.1.0-V2018.2.1\n",
       "    processing_control_source:                             A20190012019031.L3...\n",
       "    processing_control_l2_flag_names:                      ATMFAIL,LAND,HILT,...\n",
       "    processing_control_input_parameters_par:               A20190012019031.L3...\n",
       "    processing_control_input_parameters_suite:             CHL\n",
       "    processing_control_input_parameters_ifile:             A20190012019031.L3...\n",
       "    processing_control_input_parameters_ofile:             A20190012019031.L3...\n",
       "    processing_control_input_parameters_oformat:           2\n",
       "    processing_control_input_parameters_oformat2:          png\n",
       "    processing_control_input_parameters_deflate:           4\n",
       "    processing_control_input_parameters_product:           chlor_a\n",
       "    processing_control_input_parameters_resolution:        4km\n",
       "    processing_control_input_parameters_projection:        smi\n",
       "    processing_control_input_parameters_alt_thresh_lat:    999\n",
       "    processing_control_input_parameters_central_meridian:  -999\n",
       "    processing_control_input_parameters_north:             90.000\n",
       "    processing_control_input_parameters_south:             -90.000\n",
       "    processing_control_input_parameters_east:              180.000\n",
       "    processing_control_input_parameters_west:              -180.000\n",
       "    processing_control_input_parameters_trimNSEW:          yes\n",
       "    processing_control_input_parameters_interp:            area\n",
       "    processing_control_input_parameters_apply_pal:         1\n",
       "    processing_control_input_parameters_quiet:             false\n",
       "    processing_control_input_parameters_pversion:          2018.0QL\n",
       "    processing_control_input_parameters_use_quality:       yes\n",
       "    processing_control_input_parameters_use_rgb:           no\n",
       "    processing_control_input_parameters_product_rgb:       rhos_645,rhos_555,...\n",
       "    processing_control_input_parameters_fudge:             1.0\n",
       "    processing_control_input_parameters_threshold:         0\n",
       "    processing_control_input_parameters_num_cache:         500\n",
       "    processing_control_input_parameters_mask_land:         no\n",
       "    processing_control_input_parameters_land:              $OCDATAROOT/common...\n",
       "    processing_control_input_parameters_full_latlon:       yes\n",
       "    pyproj_srs:                                            +units=m +proj=lat..."
      ]
     },
     "execution_count": 6,
     "metadata": {},
     "output_type": "execute_result"
    }
   ],
   "source": [
    "fname = \"https://oceanwatch.pfeg.noaa.gov/thredds/dodsC/satellite/MH1/chla/mday\"\n",
    "dsw = salem.open_xr_dataset(fname)\n",
    "dsw = dsw.sel(lat=slice(bbox.maxy[0],bbox.miny[0]),lon=slice(bbox.minx[0],bbox.maxx[0])) # lat goes north to south hear slice(34,32)\n",
    "dsw.load()"
   ]
  },
  {
   "cell_type": "markdown",
   "metadata": {},
   "source": [
    "Lets do a quick plot to see the first slice of data"
   ]
  },
  {
   "cell_type": "code",
   "execution_count": 7,
   "metadata": {},
   "outputs": [
    {
     "data": {
      "text/plain": [
       "<salem.graphics.Map at 0x12d631c88>"
      ]
     },
     "execution_count": 7,
     "metadata": {},
     "output_type": "execute_result"
    },
    {
     "data": {
      "image/png": "[encoded data removed]",
      "text/plain": [
       "<Figure size 432x288 with 2 Axes>"
      ]
     },
     "metadata": {
      "needs_background": "light"
     },
     "output_type": "display_data"
    }
   ],
   "source": [
    "dsw['chlor_a'].isel(time=0).salem.quick_map()"
   ]
  },
  {
   "cell_type": "markdown",
   "metadata": {},
   "source": [
    "Now, we want to use the sanctuary shape file to make a mask of the data"
   ]
  },
  {
   "cell_type": "code",
   "execution_count": 8,
   "metadata": {},
   "outputs": [],
   "source": [
    "dsr = dsw.salem.roi(shape=shdf)\n",
    "lons,lats = np.meshgrid(dsr['lon'].values,dsr['lat'].values)"
   ]
  },
  {
   "cell_type": "markdown",
   "metadata": {},
   "source": [
    "Lets plot the average through time"
   ]
  },
  {
   "cell_type": "code",
   "execution_count": 9,
   "metadata": {},
   "outputs": [
    {
     "data": {
      "image/png": "[encoded data removed]",
      "text/plain": [
       "<Figure size 576x576 with 2 Axes>"
      ]
     },
     "metadata": {
      "needs_background": "light"
     },
     "output_type": "display_data"
    }
   ],
   "source": [
    "fig = plt.figure()\n",
    "fig.set_size_inches(8,8)\n",
    "ax = plt.axes(projection=ccrs.PlateCarree())\n",
    "ax.coastlines('10m')\n",
    "ax.add_feature(cfeature.NaturalEarthFeature('physical', 'land', '10m', edgecolor='face', facecolor='#f49e42'))\n",
    "cax = ax.contourf(lons,lats,dsr['chlor_a'].median(dim='time'),zorder=2)\n",
    "shdf.plot(ax=ax,lw=3,edgecolor='k',color='None',zorder=10)\n",
    "plt.colorbar(cax)\n",
    "gl = ax.gridlines(crs=ccrs.PlateCarree(), draw_labels=True,\n",
    "                  linewidth=2, color='gray', alpha=0.5, linestyle='-',zorder=1)\n",
    "gl.xlabels_top = False\n",
    "gl.ylabels_right = False"
   ]
  },
  {
   "cell_type": "markdown",
   "metadata": {},
   "source": [
    "__Plot timeseries of spatial mean and median__"
   ]
  },
  {
   "cell_type": "code",
   "execution_count": 42,
   "metadata": {},
   "outputs": [
    {
     "name": "stdout",
     "output_type": "stream",
     "text": [
      "3.1845688819885254\n",
      "3.538395404815674\n",
      "1.9684339761734009\n"
     ]
    }
   ],
   "source": [
    "mean_ts = dsr['chlor_a'].mean(dim=['lat','lon'])\n",
    "sts_ts = dsr['chlor_a'].std(dim=['lat','lon'], ddof=1)\n",
    "median = mean_ts.median().values\n",
    "print(median)\n",
    "mean = mean_ts.mean().values\n",
    "print(mean)\n",
    "std = mean_ts.std(ddof=1).values\n",
    "print(std)"
   ]
  },
  {
   "cell_type": "code",
   "execution_count": 43,
   "metadata": {},
   "outputs": [
    {
     "name": "stderr",
     "output_type": "stream",
     "text": [
      "/anaconda3/lib/python3.6/site-packages/pandas/plotting/_converter.py:129: FutureWarning: Using an implicitly registered datetime converter for a matplotlib plotting method. The converter was registered by pandas on import. Future versions of pandas will require you to explicitly register matplotlib converters.\n",
      "\n",
      "To register the converters:\n",
      "\t>>> from pandas.plotting import register_matplotlib_converters\n",
      "\t>>> register_matplotlib_converters()\n",
      "  warnings.warn(msg, FutureWarning)\n"
     ]
    },
    {
     "data": {
      "text/plain": [
       "Text(0.5,0,'')"
      ]
     },
     "execution_count": 43,
     "metadata": {},
     "output_type": "execute_result"
    },
    {
     "data": {
      "image/png": "[encoded data removed]",
      "text/plain": [
       "<Figure size 576x432 with 2 Axes>"
      ]
     },
     "metadata": {
      "needs_background": "light"
     },
     "output_type": "display_data"
    }
   ],
   "source": [
    "fig, (ax,ax2) = plt.subplots(2,sharex=True)\n",
    "fig.set_size_inches(8,6)\n",
    "mean_ts.plot(ax=ax)\n",
    "ax.set_xlabel('')\n",
    "ax.set_ylabel('Chl-a Mean',size=16)\n",
    "sts_ts.plot(ax=ax2)\n",
    "ax2.set_ylabel('Chl-a STD',size=16)\n",
    "ax2.set_xlabel('')"
   ]
  },
  {
   "cell_type": "code",
   "execution_count": 44,
   "metadata": {},
   "outputs": [
    {
     "data": {
      "text/plain": [
       "<matplotlib.legend.Legend at 0x133992860>"
      ]
     },
     "execution_count": 44,
     "metadata": {},
     "output_type": "execute_result"
    },
    {
     "data": {
      "image/png": "[encoded data removed]",
      "text/plain": [
       "<Figure size 576x432 with 1 Axes>"
      ]
     },
     "metadata": {
      "needs_background": "light"
     },
     "output_type": "display_data"
    }
   ],
   "source": [
    "fig, ax = plt.subplots()\n",
    "fig.set_size_inches(8,6)\n",
    "mean_ts.plot(ax=ax,color='#1a9641')\n",
    "ax.hlines(mean,mean_ts['time'][0].values,mean_ts['time'][-1].values,label='mean',lw=3)\n",
    "ax.hlines(mean+std,mean_ts['time'][0].values,mean_ts['time'][-1].values,linestyle='dashed')\n",
    "ax.hlines(mean-std,mean_ts['time'][0].values,mean_ts['time'][-1].values,linestyle='dashed')\n",
    "ax.hlines(median,mean_ts['time'][0].values,mean_ts['time'][-1].values,linestyle='dashed',label='median',color='#ca0020',lw=3)\n",
    "ax.xaxis.set_major_locator(mdates.YearLocator())\n",
    "ax.xaxis.set_minor_locator(mdates.MonthLocator(6))\n",
    "ax.set_xlabel('')\n",
    "ax.set_ylabel('Monthly Chl-a')\n",
    "ax.set_yticks(range(0,10))\n",
    "plt.legend()"
   ]
  },
  {
   "cell_type": "markdown",
   "metadata": {},
   "source": [
    "__Plot annual sum__"
   ]
  },
  {
   "cell_type": "code",
   "execution_count": 45,
   "metadata": {},
   "outputs": [
    {
     "data": {
      "text/plain": [
       "[<matplotlib.lines.Line2D at 0x13327af98>]"
      ]
     },
     "execution_count": 45,
     "metadata": {},
     "output_type": "execute_result"
    },
    {
     "data": {
      "image/png": "[encoded data removed]",
      "text/plain": [
       "<Figure size 576x432 with 1 Axes>"
      ]
     },
     "metadata": {
      "needs_background": "light"
     },
     "output_type": "display_data"
    }
   ],
   "source": [
    "mean_df = mean_ts.to_pandas()\n",
    "annual_sum = mean_df.resample('Y').sum()\n",
    "fig, ax = plt.subplots()\n",
    "fig.set_size_inches(8,6)\n",
    "ax.plot(annual_sum.index.year[:-1],annual_sum[:-1],color='#1a9641',marker='x')"
   ]
  },
  {
   "cell_type": "code",
   "execution_count": 46,
   "metadata": {},
   "outputs": [
    {
     "data": {
      "text/plain": [
       "(array([18., 16., 14., 20., 14., 19., 16., 11., 14.,  4., 14.,  6.,  7.,\n",
       "         5.,  5.,  1.,  3.,  2.,  3.,  2.]),\n",
       " array([0.7352539, 1.1569382, 1.5786226, 2.000307 , 2.4219913, 2.8436759,\n",
       "        3.26536  , 3.6870446, 4.108729 , 4.530413 , 4.952098 , 5.373782 ,\n",
       "        5.7954664, 6.2171507, 6.6388354, 7.0605197, 7.482204 , 7.903888 ,\n",
       "        8.325573 , 8.747257 , 9.1689415], dtype=float32),\n",
       " <a list of 20 Patch objects>)"
      ]
     },
     "execution_count": 46,
     "metadata": {},
     "output_type": "execute_result"
    },
    {
     "data": {
      "image/png": "[encoded data removed]",
      "text/plain": [
       "<Figure size 432x288 with 1 Axes>"
      ]
     },
     "metadata": {
      "needs_background": "light"
     },
     "output_type": "display_data"
    }
   ],
   "source": [
    "fig, ax = plt.subplots()\n",
    "ax.hist(mean_ts,bins=20)"
   ]
  },
  {
   "cell_type": "markdown",
   "metadata": {},
   "source": [
    "__Plot monthly Cummulative sum__\n",
    "\n",
    "Cummulative sums can be another way of displaying this data. The slope will tell us about monthly variation and the magitude can be used to compare across years"
   ]
  },
  {
   "cell_type": "code",
   "execution_count": 47,
   "metadata": {},
   "outputs": [],
   "source": [
    "df = mean_ts.to_pandas()\n",
    "df = pd.DataFrame(data={'mean':df})\n",
    "df['year'] = df.index.year\n",
    "df['month'] = df.index.month\n",
    "df['cum_sum'] = df.groupby(\"year\")['mean'].cumsum()"
   ]
  },
  {
   "cell_type": "code",
   "execution_count": 51,
   "metadata": {},
   "outputs": [],
   "source": [
    "def mean_confidence_interval(data, confidence=0.95):\n",
    "    a = 1.0 * np.array(data)\n",
    "    n = len(a)\n",
    "    m, se = np.nanmean(a), stats.sem(a, nan_policy='omit')\n",
    "    h = se * stats.t.ppf((1 + confidence) / 2., n-1)\n",
    "    return m, m-h, m+h\n",
    "\n",
    "def df_ci(series_name,df,hour_series):\n",
    "    \"\"\" Return the mean, and 95% confidence intervals \"\"\"\n",
    "    ci_mean = []\n",
    "    ci_lower = []\n",
    "    ci_upper = []\n",
    "    for hr in range(1,13):\n",
    "        v_outer = df[df[hour_series]==hr][series_name]\n",
    "        ci = mean_confidence_interval(v_outer, confidence=0.95)\n",
    "        ci_mean.append(ci[0])\n",
    "        ci_lower.append(ci[1])\n",
    "        ci_upper.append(ci[2])\n",
    "    return ci_mean, ci_lower, ci_upper"
   ]
  },
  {
   "cell_type": "code",
   "execution_count": 52,
   "metadata": {},
   "outputs": [],
   "source": [
    "mean_ci =  df_ci('cum_sum', df,hour_series='month')"
   ]
  },
  {
   "cell_type": "code",
   "execution_count": 53,
   "metadata": {},
   "outputs": [
    {
     "data": {
      "text/plain": [
       "<matplotlib.legend.Legend at 0x12e0f2f98>"
      ]
     },
     "execution_count": 53,
     "metadata": {},
     "output_type": "execute_result"
    },
    {
     "data": {
      "image/png": "[encoded data removed]",
      "text/plain": [
       "<Figure size 720x288 with 1 Axes>"
      ]
     },
     "metadata": {
      "needs_background": "light"
     },
     "output_type": "display_data"
    }
   ],
   "source": [
    "fig, ax = plt.subplots()\n",
    "fig.set_size_inches(10,4)\n",
    "grouped = df.groupby('year')\n",
    "for name, group in grouped:\n",
    "    if name >= 2014:\n",
    "        ax.plot(group['month'],group['mean'].cumsum(skipna=True),label=name,lw=3)\n",
    "    else:\n",
    "        ax.plot(group['month'],group['mean'].cumsum(skipna=True),label='_nolegend_',color='.5',zorder=-1)\n",
    "ax.fill_between(list(range(1,13)),mean_ci[1],mean_ci[2],color='.75')\n",
    "ax.plot(list(range(1,13)),mean_ci[1],color='.34')\n",
    "ax.plot(list(range(1,13)),mean_ci[2],color='.34')\n",
    "ax.plot(list(range(1,13)),mean_ci[0],color='k')\n",
    "# ax.set_ylim(0)\n",
    "plt.legend()"
   ]
  },
  {
   "cell_type": "markdown",
   "metadata": {},
   "source": [
    "## Altair weather Chl-a\n",
    "[Example Plot](https://altair-viz.github.io/gallery/weather_heatmap.html)"
   ]
  },
  {
   "cell_type": "code",
   "execution_count": 75,
   "metadata": {},
   "outputs": [],
   "source": [
    "import altair as alt\n",
    "from vega_datasets import data\n",
    "df_mean = dsr['chlor_a'].mean(dim=['lat','lon']).to_pandas()\n",
    "df_date = dsr['time'].to_pandas()\n",
    "df = pd.DataFrame({\"chl_mean\":df_mean,\"date\":df_date})"
   ]
  },
  {
   "cell_type": "code",
   "execution_count": 78,
   "metadata": {},
   "outputs": [
    {
     "data": {
      "application/vnd.vegalite.v2+json": {
       "$schema": "https://vega.github.io/schema/vega-lite/v2.6.0.json",
       "config": {
        "view": {
         "height": 300,
         "width": 400
        }
       },
       "data": {
        "name": "data-1034b2aa8295fd318370d0548031581c"
       },
       "datasets": {
        "data-1034b2aa8295fd318370d0548031581c": [
         {
          "chl_mean": 0.9437264204025269,
          "date": "2003-01-16T00:00:00"
         },
         {
          "chl_mean": 1.629732370376587,
          "date": "2003-02-16T00:00:00"
         },
         {
          "chl_mean": 3.2433691024780273,
          "date": "2003-03-16T00:00:00"
         },
         {
          "chl_mean": 5.629960536956787,
          "date": "2003-04-16T00:00:00"
         },
         {
          "chl_mean": 3.947554588317871,
          "date": "2003-05-16T00:00:00"
         },
         {
          "chl_mean": 4.460415363311768,
          "date": "2003-06-16T00:00:00"
         },
         {
          "chl_mean": 5.5198163986206055,
          "date": "2003-07-16T00:00:00"
         },
         {
          "chl_mean": 2.304741621017456,
          "date": "2003-08-16T00:00:00"
         },
         {
          "chl_mean": 2.3818020820617676,
          "date": "2003-09-16T00:00:00"
         },
         {
          "chl_mean": 5.80550479888916,
          "date": "2003-10-16T00:00:00"
         },
         {
          "chl_mean": 1.663159728050232,
          "date": "2003-11-16T00:00:00"
         },
         {
          "chl_mean": 0.9364166259765625,
          "date": "2003-12-16T00:00:00"
         },
         {
          "chl_mean": 1.134992003440857,
          "date": "2004-01-16T00:00:00"
         },
         {
          "chl_mean": 2.5234622955322266,
          "date": "2004-02-16T00:00:00"
         },
         {
          "chl_mean": 5.1024370193481445,
          "date": "2004-03-16T00:00:00"
         },
         {
          "chl_mean": 8.71654224395752,
          "date": "2004-04-16T00:00:00"
         },
         {
          "chl_mean": 6.0071001052856445,
          "date": "2004-05-16T00:00:00"
         },
         {
          "chl_mean": 4.634158134460449,
          "date": "2004-06-16T00:00:00"
         },
         {
          "chl_mean": 3.7530899047851562,
          "date": "2004-07-16T00:00:00"
         },
         {
          "chl_mean": 3.279898166656494,
          "date": "2004-08-16T00:00:00"
         },
         {
          "chl_mean": 5.228287696838379,
          "date": "2004-09-16T00:00:00"
         },
         {
          "chl_mean": 2.973689556121826,
          "date": "2004-10-16T00:00:00"
         },
         {
          "chl_mean": 2.85429310798645,
          "date": "2004-11-16T00:00:00"
         },
         {
          "chl_mean": 1.6105856895446777,
          "date": "2004-12-16T00:00:00"
         },
         {
          "chl_mean": 1.1606144905090332,
          "date": "2005-01-16T00:00:00"
         },
         {
          "chl_mean": 1.1841171979904175,
          "date": "2005-02-16T00:00:00"
         },
         {
          "chl_mean": 1.2205016613006592,
          "date": "2005-03-16T00:00:00"
         },
         {
          "chl_mean": 7.821070671081543,
          "date": "2005-04-16T00:00:00"
         },
         {
          "chl_mean": 3.9064252376556396,
          "date": "2005-05-16T00:00:00"
         },
         {
          "chl_mean": 8.992757797241211,
          "date": "2005-06-16T00:00:00"
         },
         {
          "chl_mean": 2.903001070022583,
          "date": "2005-07-16T00:00:00"
         },
         {
          "chl_mean": 2.406327486038208,
          "date": "2005-08-16T00:00:00"
         },
         {
          "chl_mean": 6.588890552520752,
          "date": "2005-09-16T00:00:00"
         },
         {
          "chl_mean": 6.613254070281982,
          "date": "2005-10-16T00:00:00"
         },
         {
          "chl_mean": 7.483965873718262,
          "date": "2005-11-16T00:00:00"
         },
         {
          "chl_mean": 3.0743658542633057,
          "date": "2005-12-16T00:00:00"
         },
         {
          "chl_mean": 3.30838942527771,
          "date": "2006-01-16T00:00:00"
         },
         {
          "chl_mean": 3.180028200149536,
          "date": "2006-02-16T00:00:00"
         },
         {
          "chl_mean": 1.9004970788955688,
          "date": "2006-03-16T00:00:00"
         },
         {
          "chl_mean": 2.4813108444213867,
          "date": "2006-04-16T00:00:00"
         },
         {
          "chl_mean": 8.330109596252441,
          "date": "2006-05-16T00:00:00"
         },
         {
          "chl_mean": 7.994387149810791,
          "date": "2006-06-16T00:00:00"
         },
         {
          "chl_mean": 4.241620063781738,
          "date": "2006-07-16T00:00:00"
         },
         {
          "chl_mean": 7.721029281616211,
          "date": "2006-08-16T00:00:00"
         },
         {
          "chl_mean": 6.840803623199463,
          "date": "2006-09-16T00:00:00"
         },
         {
          "chl_mean": 3.686302900314331,
          "date": "2006-10-16T00:00:00"
         },
         {
          "chl_mean": 2.9978621006011963,
          "date": "2006-11-16T00:00:00"
         },
         {
          "chl_mean": 2.0858206748962402,
          "date": "2006-12-16T00:00:00"
         },
         {
          "chl_mean": 0.974428117275238,
          "date": "2007-01-16T00:00:00"
         },
         {
          "chl_mean": 1.2048674821853638,
          "date": "2007-02-16T00:00:00"
         },
         {
          "chl_mean": 6.146457195281982,
          "date": "2007-03-16T00:00:00"
         },
         {
          "chl_mean": 2.9640679359436035,
          "date": "2007-04-16T00:00:00"
         },
         {
          "chl_mean": 4.222945690155029,
          "date": "2007-05-16T00:00:00"
         },
         {
          "chl_mean": 6.117936134338379,
          "date": "2007-06-16T00:00:00"
         },
         {
          "chl_mean": 3.0464165210723877,
          "date": "2007-07-16T00:00:00"
         },
         {
          "chl_mean": 4.266956806182861,
          "date": "2007-08-16T00:00:00"
         },
         {
          "chl_mean": 4.440182685852051,
          "date": "2007-09-16T00:00:00"
         },
         {
          "chl_mean": 3.926398754119873,
          "date": "2007-10-16T00:00:00"
         },
         {
          "chl_mean": 2.689389944076538,
          "date": "2007-11-16T00:00:00"
         },
         {
          "chl_mean": 1.6938484907150269,
          "date": "2007-12-16T00:00:00"
         },
         {
          "chl_mean": 1.5570327043533325,
          "date": "2008-01-16T00:00:00"
         },
         {
          "chl_mean": 1.4790096282958984,
          "date": "2008-02-16T00:00:00"
         },
         {
          "chl_mean": 3.8807318210601807,
          "date": "2008-03-16T00:00:00"
         },
         {
          "chl_mean": 6.356668949127197,
          "date": "2008-04-16T00:00:00"
         },
         {
          "chl_mean": 3.195899248123169,
          "date": "2008-05-16T00:00:00"
         },
         {
          "chl_mean": 3.2473082542419434,
          "date": "2008-06-16T00:00:00"
         },
         {
          "chl_mean": 3.4837512969970703,
          "date": "2008-07-16T00:00:00"
         },
         {
          "chl_mean": 3.7457756996154785,
          "date": "2008-08-16T00:00:00"
         },
         {
          "chl_mean": 3.542706251144409,
          "date": "2008-09-16T00:00:00"
         },
         {
          "chl_mean": 3.1714401245117188,
          "date": "2008-10-16T00:00:00"
         },
         {
          "chl_mean": 1.343235969543457,
          "date": "2008-11-16T00:00:00"
         },
         {
          "chl_mean": 1.2038555145263672,
          "date": "2008-12-16T00:00:00"
         },
         {
          "chl_mean": 1.6579692363739014,
          "date": "2009-01-16T00:00:00"
         },
         {
          "chl_mean": 1.8661158084869385,
          "date": "2009-02-16T00:00:00"
         },
         {
          "chl_mean": 2.796328067779541,
          "date": "2009-03-16T00:00:00"
         },
         {
          "chl_mean": 2.78503680229187,
          "date": "2009-04-16T00:00:00"
         },
         {
          "chl_mean": 4.080334663391113,
          "date": "2009-05-16T00:00:00"
         },
         {
          "chl_mean": 2.922105073928833,
          "date": "2009-06-16T00:00:00"
         },
         {
          "chl_mean": 2.334460496902466,
          "date": "2009-07-16T00:00:00"
         },
         {
          "chl_mean": 2.7133753299713135,
          "date": "2009-08-16T00:00:00"
         },
         {
          "chl_mean": 4.25315523147583,
          "date": "2009-09-16T00:00:00"
         },
         {
          "chl_mean": 4.66981315612793,
          "date": "2009-10-16T00:00:00"
         },
         {
          "chl_mean": 3.5713865756988525,
          "date": "2009-11-16T00:00:00"
         },
         {
          "chl_mean": 3.0433170795440674,
          "date": "2009-12-16T00:00:00"
         },
         {
          "chl_mean": 2.089005708694458,
          "date": "2010-01-16T00:00:00"
         },
         {
          "chl_mean": 1.7285963296890259,
          "date": "2010-02-16T00:00:00"
         },
         {
          "chl_mean": 3.5338099002838135,
          "date": "2010-03-16T00:00:00"
         },
         {
          "chl_mean": 6.1880879402160645,
          "date": "2010-04-16T00:00:00"
         },
         {
          "chl_mean": 3.865846872329712,
          "date": "2010-05-16T00:00:00"
         },
         {
          "chl_mean": 4.468459606170654,
          "date": "2010-06-16T00:00:00"
         },
         {
          "chl_mean": 2.913116455078125,
          "date": "2010-07-16T00:00:00"
         },
         {
          "chl_mean": 4.93825101852417,
          "date": "2010-08-16T00:00:00"
         },
         {
          "chl_mean": 5.234611988067627,
          "date": "2010-09-16T00:00:00"
         },
         {
          "chl_mean": 3.481123924255371,
          "date": "2010-10-16T00:00:00"
         },
         {
          "chl_mean": 4.992783069610596,
          "date": "2010-11-16T00:00:00"
         },
         {
          "chl_mean": 2.810218334197998,
          "date": "2010-12-16T00:00:00"
         },
         {
          "chl_mean": 2.2093374729156494,
          "date": "2011-01-16T00:00:00"
         },
         {
          "chl_mean": 4.4893107414245605,
          "date": "2011-02-16T00:00:00"
         },
         {
          "chl_mean": 2.194979667663574,
          "date": "2011-03-16T00:00:00"
         },
         {
          "chl_mean": 5.811084747314453,
          "date": "2011-04-16T00:00:00"
         },
         {
          "chl_mean": 5.722968101501465,
          "date": "2011-05-16T00:00:00"
         },
         {
          "chl_mean": 2.4465858936309814,
          "date": "2011-06-16T00:00:00"
         },
         {
          "chl_mean": 6.6766204833984375,
          "date": "2011-07-16T00:00:00"
         },
         {
          "chl_mean": 3.573899507522583,
          "date": "2011-08-16T00:00:00"
         },
         {
          "chl_mean": 3.5439436435699463,
          "date": "2011-09-16T00:00:00"
         },
         {
          "chl_mean": 5.035174369812012,
          "date": "2011-10-16T00:00:00"
         },
         {
          "chl_mean": 3.416339874267578,
          "date": "2011-11-16T00:00:00"
         },
         {
          "chl_mean": 2.1230924129486084,
          "date": "2011-12-16T00:00:00"
         },
         {
          "chl_mean": 1.4861122369766235,
          "date": "2012-01-16T00:00:00"
         },
         {
          "chl_mean": 1.6549673080444336,
          "date": "2012-02-16T00:00:00"
         },
         {
          "chl_mean": 2.2042040824890137,
          "date": "2012-03-16T00:00:00"
         },
         {
          "chl_mean": 3.4509847164154053,
          "date": "2012-04-16T00:00:00"
         },
         {
          "chl_mean": 2.838890790939331,
          "date": "2012-05-16T00:00:00"
         },
         {
          "chl_mean": 3.59708833694458,
          "date": "2012-06-16T00:00:00"
         },
         {
          "chl_mean": 3.47834849357605,
          "date": "2012-07-16T00:00:00"
         },
         {
          "chl_mean": 2.617854595184326,
          "date": "2012-08-16T00:00:00"
         },
         {
          "chl_mean": 3.1125004291534424,
          "date": "2012-09-16T00:00:00"
         },
         {
          "chl_mean": 1.9804342985153198,
          "date": "2012-10-16T00:00:00"
         },
         {
          "chl_mean": 2.101973533630371,
          "date": "2012-11-16T00:00:00"
         },
         {
          "chl_mean": 1.138750672340393,
          "date": "2012-12-16T00:00:00"
         },
         {
          "chl_mean": 2.344217538833618,
          "date": "2013-01-16T00:00:00"
         },
         {
          "chl_mean": 3.0582621097564697,
          "date": "2013-02-16T00:00:00"
         },
         {
          "chl_mean": 9.168941497802734,
          "date": "2013-03-16T00:00:00"
         },
         {
          "chl_mean": 3.1891095638275146,
          "date": "2013-04-16T00:00:00"
         },
         {
          "chl_mean": 7.015449047088623,
          "date": "2013-05-16T00:00:00"
         },
         {
          "chl_mean": 5.044651031494141,
          "date": "2013-06-16T00:00:00"
         },
         {
          "chl_mean": 2.712578058242798,
          "date": "2013-07-16T00:00:00"
         },
         {
          "chl_mean": 2.347743272781372,
          "date": "2013-08-16T00:00:00"
         },
         {
          "chl_mean": 6.539754867553711,
          "date": "2013-09-16T00:00:00"
         },
         {
          "chl_mean": 7.911866664886475,
          "date": "2013-10-16T00:00:00"
         },
         {
          "chl_mean": 2.5620758533477783,
          "date": "2013-11-16T00:00:00"
         },
         {
          "chl_mean": 1.4816826581954956,
          "date": "2013-12-16T00:00:00"
         },
         {
          "chl_mean": 1.5886213779449463,
          "date": "2014-01-16T00:00:00"
         },
         {
          "chl_mean": 2.3953323364257812,
          "date": "2014-02-16T00:00:00"
         },
         {
          "chl_mean": 4.959731578826904,
          "date": "2014-03-16T00:00:00"
         },
         {
          "chl_mean": 6.281414985656738,
          "date": "2014-04-16T00:00:00"
         },
         {
          "chl_mean": 7.323705196380615,
          "date": "2014-05-16T00:00:00"
         },
         {
          "chl_mean": 5.102199554443359,
          "date": "2014-06-16T00:00:00"
         },
         {
          "chl_mean": 1.1418243646621704,
          "date": "2014-07-16T00:00:00"
         },
         {
          "chl_mean": 1.0644702911376953,
          "date": "2014-08-16T00:00:00"
         },
         {
          "chl_mean": 1.1493686437606812,
          "date": "2014-09-16T00:00:00"
         },
         {
          "chl_mean": 1.0909546613693237,
          "date": "2014-10-16T00:00:00"
         },
         {
          "chl_mean": 1.1543798446655273,
          "date": "2014-11-16T00:00:00"
         },
         {
          "chl_mean": 1.0044653415679932,
          "date": "2014-12-16T00:00:00"
         },
         {
          "chl_mean": 1.237500786781311,
          "date": "2015-01-16T00:00:00"
         },
         {
          "chl_mean": 1.3074012994766235,
          "date": "2015-02-16T00:00:00"
         },
         {
          "chl_mean": 5.5894455909729,
          "date": "2015-03-16T00:00:00"
         },
         {
          "chl_mean": 8.53173542022705,
          "date": "2015-04-16T00:00:00"
         },
         {
          "chl_mean": 3.833875894546509,
          "date": "2015-05-16T00:00:00"
         },
         {
          "chl_mean": 4.144753456115723,
          "date": "2015-06-16T00:00:00"
         },
         {
          "chl_mean": 1.1426753997802734,
          "date": "2015-07-16T00:00:00"
         },
         {
          "chl_mean": 1.006935715675354,
          "date": "2015-08-16T00:00:00"
         },
         {
          "chl_mean": 2.389619827270508,
          "date": "2015-09-16T00:00:00"
         },
         {
          "chl_mean": 1.0231590270996094,
          "date": "2015-10-16T00:00:00"
         },
         {
          "chl_mean": 1.4919663667678833,
          "date": "2015-11-16T00:00:00"
         },
         {
          "chl_mean": 0.8170877695083618,
          "date": "2015-12-16T00:00:00"
         },
         {
          "chl_mean": 0.7352538704872131,
          "date": "2016-01-16T00:00:00"
         },
         {
          "chl_mean": 1.2288132905960083,
          "date": "2016-02-16T00:00:00"
         },
         {
          "chl_mean": 2.385370969772339,
          "date": "2016-03-16T00:00:00"
         },
         {
          "chl_mean": 4.461033821105957,
          "date": "2016-04-16T00:00:00"
         },
         {
          "chl_mean": 2.028348207473755,
          "date": "2016-05-16T00:00:00"
         },
         {
          "chl_mean": 5.132778644561768,
          "date": "2016-06-16T00:00:00"
         },
         {
          "chl_mean": 3.164966106414795,
          "date": "2016-07-16T00:00:00"
         },
         {
          "chl_mean": 2.0969555377960205,
          "date": "2016-08-16T00:00:00"
         },
         {
          "chl_mean": 4.2640814781188965,
          "date": "2016-09-16T00:00:00"
         },
         {
          "chl_mean": 6.835940837860107,
          "date": "2016-10-16T00:00:00"
         },
         {
          "chl_mean": 4.105775356292725,
          "date": "2016-11-16T00:00:00"
         },
         {
          "chl_mean": 3.6067848205566406,
          "date": "2016-12-16T00:00:00"
         },
         {
          "chl_mean": 1.6859192848205566,
          "date": "2017-01-16T00:00:00"
         },
         {
          "chl_mean": 1.414007544517517,
          "date": "2017-02-16T00:00:00"
         },
         {
          "chl_mean": 3.3936216831207275,
          "date": "2017-03-16T00:00:00"
         },
         {
          "chl_mean": 3.726673126220703,
          "date": "2017-04-16T00:00:00"
         },
         {
          "chl_mean": 5.563735485076904,
          "date": "2017-05-16T00:00:00"
         },
         {
          "chl_mean": 4.112165927886963,
          "date": "2017-06-16T00:00:00"
         },
         {
          "chl_mean": 5.335536956787109,
          "date": "2017-07-16T00:00:00"
         },
         {
          "chl_mean": 4.558911323547363,
          "date": "2017-08-16T00:00:00"
         },
         {
          "chl_mean": 4.480257034301758,
          "date": "2017-09-16T00:00:00"
         },
         {
          "chl_mean": 6.912834644317627,
          "date": "2017-10-16T00:00:00"
         },
         {
          "chl_mean": 4.288827419281006,
          "date": "2017-11-16T00:00:00"
         },
         {
          "chl_mean": 1.7374995946884155,
          "date": "2017-12-16T00:00:00"
         },
         {
          "chl_mean": 2.1250598430633545,
          "date": "2018-01-16T00:00:00"
         },
         {
          "chl_mean": 2.091093063354492,
          "date": "2018-02-16T00:00:00"
         },
         {
          "chl_mean": 1.903319001197815,
          "date": "2018-03-16T00:00:00"
         },
         {
          "chl_mean": 5.089149475097656,
          "date": "2018-04-16T00:00:00"
         },
         {
          "chl_mean": 5.030429840087891,
          "date": "2018-05-16T00:00:00"
         },
         {
          "chl_mean": 5.707770347595215,
          "date": "2018-06-16T00:00:00"
         },
         {
          "chl_mean": 2.6490578651428223,
          "date": "2018-07-16T00:00:00"
         },
         {
          "chl_mean": 5.010861873626709,
          "date": "2018-08-16T00:00:00"
         },
         {
          "chl_mean": 6.091614246368408,
          "date": "2018-09-16T00:00:00"
         },
         {
          "chl_mean": 2.6739349365234375,
          "date": "2018-10-16T00:00:00"
         },
         {
          "chl_mean": 5.296270370483398,
          "date": "2018-11-16T00:00:00"
         },
         {
          "chl_mean": 0.9522586464881897,
          "date": "2018-12-16T00:00:00"
         },
         {
          "chl_mean": 1.225554347038269,
          "date": "2019-01-16T00:00:00"
         },
         {
          "chl_mean": 1.045116901397705,
          "date": "2019-02-16T00:00:00"
         }
        ]
       },
       "encoding": {
        "color": {
         "field": "chl_mean",
         "type": "quantitative"
        },
        "tooltip": [
         {
          "field": "date",
          "timeUnit": "yearmonth",
          "title": "Date",
          "type": "temporal"
         },
         {
          "field": "chl_mean",
          "title": "CHl-a",
          "type": "quantitative"
         }
        ],
        "x": {
         "field": "date",
         "timeUnit": "month",
         "type": "ordinal"
        },
        "y": {
         "field": "date",
         "timeUnit": "year",
         "type": "ordinal"
        }
       },
       "mark": "rect",
       "title": "MBNMS Monthly Mean",
       "width": 400
      },
      "image/png": "[encoded data removed]",
      "text/plain": [
       "<VegaLite 2 object>\n",
       "\n",
       "If you see this message, it means the renderer has not been properly enabled\n",
       "for the frontend that you are using. For more information, see\n",
       "https://altair-viz.github.io/user_guide/troubleshooting.html\n"
      ]
     },
     "execution_count": 78,
     "metadata": {},
     "output_type": "execute_result"
    }
   ],
   "source": [
    "chart = alt.Chart(\n",
    "    df,\n",
    "    title=\"MBNMS Monthly Mean\"\n",
    ").mark_rect().encode(\n",
    "    x=alt.X('date:O', timeUnit='month'),\n",
    "    y=alt.Y('date:O', timeUnit='year'),\n",
    "    color=alt.Color('chl_mean:Q'),\n",
    "        tooltip=[\n",
    "        alt.Tooltip('date:T', timeUnit='yearmonth', title='Date'),\n",
    "        alt.Tooltip('chl_mean:Q',title='CHl-a')\n",
    "    ]\n",
    ").properties(width=400)\n",
    "chart.save('chart.html')\n",
    "chart"
   ]
  },
  {
   "cell_type": "markdown",
   "metadata": {},
   "source": [
    "## Altair Cumulative Plots\n",
    "\n",
    "[Example Plot](https://altair-viz.github.io/gallery/cumulative_wiki_donations.html)"
   ]
  },
  {
   "cell_type": "code",
   "execution_count": 65,
   "metadata": {},
   "outputs": [],
   "source": [
    "month_sum = grouped.cumsum()\n",
    "month_sum['date'] = month_sum.index"
   ]
  },
  {
   "cell_type": "code",
   "execution_count": 74,
   "metadata": {},
   "outputs": [
    {
     "data": {
      "application/vnd.vegalite.v2+json": {
       "$schema": "https://vega.github.io/schema/vega-lite/v2.6.0.json",
       "config": {
        "view": {
         "height": 300,
         "width": 400
        }
       },
       "data": {
        "name": "data-73a4e8d8a0371cfbe49afe721abbfaf2"
       },
       "datasets": {
        "data-73a4e8d8a0371cfbe49afe721abbfaf2": [
         {
          "cum_sum": 0.9437264204025269,
          "date": "2003-01-16T00:00:00",
          "mean": 0.9437264204025269,
          "month": 1
         },
         {
          "cum_sum": 3.5171852111816406,
          "date": "2003-02-16T00:00:00",
          "mean": 2.573458671569824,
          "month": 3
         },
         {
          "cum_sum": 9.334012985229492,
          "date": "2003-03-16T00:00:00",
          "mean": 5.816827774047852,
          "month": 6
         },
         {
          "cum_sum": 20.78080177307129,
          "date": "2003-04-16T00:00:00",
          "mean": 11.446788787841797,
          "month": 10
         },
         {
          "cum_sum": 36.17514419555664,
          "date": "2003-05-16T00:00:00",
          "mean": 15.394343376159668,
          "month": 15
         },
         {
          "cum_sum": 56.029903411865234,
          "date": "2003-06-16T00:00:00",
          "mean": 19.854759216308594,
          "month": 21
         },
         {
          "cum_sum": 81.40447998046875,
          "date": "2003-07-16T00:00:00",
          "mean": 25.374574661254883,
          "month": 28
         },
         {
          "cum_sum": 109.08379364013672,
          "date": "2003-08-16T00:00:00",
          "mean": 27.6793155670166,
          "month": 36
         },
         {
          "cum_sum": 139.14491271972656,
          "date": "2003-09-16T00:00:00",
          "mean": 30.061119079589844,
          "month": 45
         },
         {
          "cum_sum": 175.01153564453125,
          "date": "2003-10-16T00:00:00",
          "mean": 35.86662292480469,
          "month": 55
         },
         {
          "cum_sum": 212.54132080078125,
          "date": "2003-11-16T00:00:00",
          "mean": 37.529781341552734,
          "month": 66
         },
         {
          "cum_sum": 251.0075225830078,
          "date": "2003-12-16T00:00:00",
          "mean": 38.4661979675293,
          "month": 78
         },
         {
          "cum_sum": 1.134992003440857,
          "date": "2004-01-16T00:00:00",
          "mean": 1.134992003440857,
          "month": 1
         },
         {
          "cum_sum": 4.7934465408325195,
          "date": "2004-02-16T00:00:00",
          "mean": 3.658454418182373,
          "month": 3
         },
         {
          "cum_sum": 13.554337501525879,
          "date": "2004-03-16T00:00:00",
          "mean": 8.76089096069336,
          "month": 6
         },
         {
          "cum_sum": 31.031770706176758,
          "date": "2004-04-16T00:00:00",
          "mean": 17.477434158325195,
          "month": 10
         },
         {
          "cum_sum": 54.51630401611328,
          "date": "2004-05-16T00:00:00",
          "mean": 23.484533309936523,
          "month": 15
         },
         {
          "cum_sum": 82.63499450683594,
          "date": "2004-06-16T00:00:00",
          "mean": 28.11869239807129,
          "month": 21
         },
         {
          "cum_sum": 114.50678253173828,
          "date": "2004-07-16T00:00:00",
          "mean": 31.871782302856445,
          "month": 28
         },
         {
          "cum_sum": 149.65846252441406,
          "date": "2004-08-16T00:00:00",
          "mean": 35.15167999267578,
          "month": 36
         },
         {
          "cum_sum": 190.03842163085938,
          "date": "2004-09-16T00:00:00",
          "mean": 40.379966735839844,
          "month": 45
         },
         {
          "cum_sum": 233.39208984375,
          "date": "2004-10-16T00:00:00",
          "mean": 43.35365676879883,
          "month": 55
         },
         {
          "cum_sum": 279.60003662109375,
          "date": "2004-11-16T00:00:00",
          "mean": 46.207950592041016,
          "month": 66
         },
         {
          "cum_sum": 327.4185791015625,
          "date": "2004-12-16T00:00:00",
          "mean": 47.81853485107422,
          "month": 78
         },
         {
          "cum_sum": 1.1606144905090332,
          "date": "2005-01-16T00:00:00",
          "mean": 1.1606144905090332,
          "month": 1
         },
         {
          "cum_sum": 3.5053462982177734,
          "date": "2005-02-16T00:00:00",
          "mean": 2.3447318077087402,
          "month": 3
         },
         {
          "cum_sum": 7.070579528808594,
          "date": "2005-03-16T00:00:00",
          "mean": 3.5652332305908203,
          "month": 6
         },
         {
          "cum_sum": 18.45688247680664,
          "date": "2005-04-16T00:00:00",
          "mean": 11.386303901672363,
          "month": 10
         },
         {
          "cum_sum": 33.749610900878906,
          "date": "2005-05-16T00:00:00",
          "mean": 15.292729377746582,
          "month": 15
         },
         {
          "cum_sum": 58.035099029541016,
          "date": "2005-06-16T00:00:00",
          "mean": 24.285486221313477,
          "month": 21
         },
         {
          "cum_sum": 85.22358703613281,
          "date": "2005-07-16T00:00:00",
          "mean": 27.188488006591797,
          "month": 28
         },
         {
          "cum_sum": 114.81840515136719,
          "date": "2005-08-16T00:00:00",
          "mean": 29.594816207885742,
          "month": 36
         },
         {
          "cum_sum": 151.00210571289062,
          "date": "2005-09-16T00:00:00",
          "mean": 36.1837043762207,
          "month": 45
         },
         {
          "cum_sum": 193.799072265625,
          "date": "2005-10-16T00:00:00",
          "mean": 42.796958923339844,
          "month": 55
         },
         {
          "cum_sum": 244.07998657226562,
          "date": "2005-11-16T00:00:00",
          "mean": 50.28092575073242,
          "month": 66
         },
         {
          "cum_sum": 297.4352722167969,
          "date": "2005-12-16T00:00:00",
          "mean": 53.35529327392578,
          "month": 78
         },
         {
          "cum_sum": 3.30838942527771,
          "date": "2006-01-16T00:00:00",
          "mean": 3.30838942527771,
          "month": 1
         },
         {
          "cum_sum": 9.796807289123535,
          "date": "2006-02-16T00:00:00",
          "mean": 6.488417625427246,
          "month": 3
         },
         {
          "cum_sum": 18.18572235107422,
          "date": "2006-03-16T00:00:00",
          "mean": 8.388915061950684,
          "month": 6
         },
         {
          "cum_sum": 29.05594825744629,
          "date": "2006-04-16T00:00:00",
          "mean": 10.87022590637207,
          "month": 10
         },
         {
          "cum_sum": 48.256282806396484,
          "date": "2006-05-16T00:00:00",
          "mean": 19.200334548950195,
          "month": 15
         },
         {
          "cum_sum": 75.45100402832031,
          "date": "2006-06-16T00:00:00",
          "mean": 27.19472312927246,
          "month": 21
         },
         {
          "cum_sum": 106.88734436035156,
          "date": "2006-07-16T00:00:00",
          "mean": 31.436342239379883,
          "month": 28
         },
         {
          "cum_sum": 146.0447235107422,
          "date": "2006-08-16T00:00:00",
          "mean": 39.157371520996094,
          "month": 36
         },
         {
          "cum_sum": 192.0428924560547,
          "date": "2006-09-16T00:00:00",
          "mean": 45.99817657470703,
          "month": 45
         },
         {
          "cum_sum": 241.7273712158203,
          "date": "2006-10-16T00:00:00",
          "mean": 49.684478759765625,
          "month": 55
         },
         {
          "cum_sum": 294.4096984863281,
          "date": "2006-11-16T00:00:00",
          "mean": 52.68233871459961,
          "month": 66
         },
         {
          "cum_sum": 349.1778869628906,
          "date": "2006-12-16T00:00:00",
          "mean": 54.76816177368164,
          "month": 78
         },
         {
          "cum_sum": 0.974428117275238,
          "date": "2007-01-16T00:00:00",
          "mean": 0.974428117275238,
          "month": 1
         },
         {
          "cum_sum": 3.15372371673584,
          "date": "2007-02-16T00:00:00",
          "mean": 2.179295539855957,
          "month": 3
         },
         {
          "cum_sum": 11.479476928710938,
          "date": "2007-03-16T00:00:00",
          "mean": 8.325753211975098,
          "month": 6
         },
         {
          "cum_sum": 22.769296646118164,
          "date": "2007-04-16T00:00:00",
          "mean": 11.289820671081543,
          "month": 10
         },
         {
          "cum_sum": 38.28206253051758,
          "date": "2007-05-16T00:00:00",
          "mean": 15.51276683807373,
          "month": 15
         },
         {
          "cum_sum": 59.91276550292969,
          "date": "2007-06-16T00:00:00",
          "mean": 21.63070297241211,
          "month": 21
         },
         {
          "cum_sum": 84.58988189697266,
          "date": "2007-07-16T00:00:00",
          "mean": 24.6771183013916,
          "month": 28
         },
         {
          "cum_sum": 113.5339584350586,
          "date": "2007-08-16T00:00:00",
          "mean": 28.944076538085938,
          "month": 36
         },
         {
          "cum_sum": 146.918212890625,
          "date": "2007-09-16T00:00:00",
          "mean": 33.38425827026367,
          "month": 45
         },
         {
          "cum_sum": 184.2288818359375,
          "date": "2007-10-16T00:00:00",
          "mean": 37.3106575012207,
          "month": 55
         },
         {
          "cum_sum": 224.2289276123047,
          "date": "2007-11-16T00:00:00",
          "mean": 40.00004577636719,
          "month": 66
         },
         {
          "cum_sum": 265.9228210449219,
          "date": "2007-12-16T00:00:00",
          "mean": 41.69389724731445,
          "month": 78
         },
         {
          "cum_sum": 1.5570327043533325,
          "date": "2008-01-16T00:00:00",
          "mean": 1.5570327043533325,
          "month": 1
         },
         {
          "cum_sum": 4.593074798583984,
          "date": "2008-02-16T00:00:00",
          "mean": 3.0360422134399414,
          "month": 3
         },
         {
          "cum_sum": 11.509849548339844,
          "date": "2008-03-16T00:00:00",
          "mean": 6.916774272918701,
          "month": 6
         },
         {
          "cum_sum": 24.783292770385742,
          "date": "2008-04-16T00:00:00",
          "mean": 13.273443222045898,
          "month": 10
         },
         {
          "cum_sum": 41.25263595581055,
          "date": "2008-05-16T00:00:00",
          "mean": 16.469343185424805,
          "month": 15
         },
         {
          "cum_sum": 60.96928405761719,
          "date": "2008-06-16T00:00:00",
          "mean": 19.716650009155273,
          "month": 21
         },
         {
          "cum_sum": 84.16968536376953,
          "date": "2008-07-16T00:00:00",
          "mean": 23.200401306152344,
          "month": 28
         },
         {
          "cum_sum": 111.1158676147461,
          "date": "2008-08-16T00:00:00",
          "mean": 26.946178436279297,
          "month": 36
         },
         {
          "cum_sum": 141.60475158691406,
          "date": "2008-09-16T00:00:00",
          "mean": 30.48888397216797,
          "month": 45
         },
         {
          "cum_sum": 175.26507568359375,
          "date": "2008-10-16T00:00:00",
          "mean": 33.66032409667969,
          "month": 55
         },
         {
          "cum_sum": 210.2686309814453,
          "date": "2008-11-16T00:00:00",
          "mean": 35.00355911254883,
          "month": 66
         },
         {
          "cum_sum": 246.47604370117188,
          "date": "2008-12-16T00:00:00",
          "mean": 36.20741653442383,
          "month": 78
         },
         {
          "cum_sum": 1.6579692363739014,
          "date": "2009-01-16T00:00:00",
          "mean": 1.6579692363739014,
          "month": 1
         },
         {
          "cum_sum": 5.18205451965332,
          "date": "2009-02-16T00:00:00",
          "mean": 3.52408504486084,
          "month": 3
         },
         {
          "cum_sum": 11.502467155456543,
          "date": "2009-03-16T00:00:00",
          "mean": 6.320413112640381,
          "month": 6
         },
         {
          "cum_sum": 20.60791778564453,
          "date": "2009-04-16T00:00:00",
          "mean": 9.105449676513672,
          "month": 10
         },
         {
          "cum_sum": 33.793701171875,
          "date": "2009-05-16T00:00:00",
          "mean": 13.185784339904785,
          "month": 15
         },
         {
          "cum_sum": 49.90159225463867,
          "date": "2009-06-16T00:00:00",
          "mean": 16.10788917541504,
          "month": 21
         },
         {
          "cum_sum": 68.34394073486328,
          "date": "2009-07-16T00:00:00",
          "mean": 18.442350387573242,
          "month": 28
         },
         {
          "cum_sum": 89.49966430664062,
          "date": "2009-08-16T00:00:00",
          "mean": 21.155725479125977,
          "month": 36
         },
         {
          "cum_sum": 114.9085464477539,
          "date": "2009-09-16T00:00:00",
          "mean": 25.40888023376465,
          "month": 45
         },
         {
          "cum_sum": 144.98724365234375,
          "date": "2009-10-16T00:00:00",
          "mean": 30.078693389892578,
          "month": 55
         },
         {
          "cum_sum": 178.6373291015625,
          "date": "2009-11-16T00:00:00",
          "mean": 33.650081634521484,
          "month": 66
         },
         {
          "cum_sum": 215.33071899414062,
          "date": "2009-12-16T00:00:00",
          "mean": 36.693397521972656,
          "month": 78
         },
         {
          "cum_sum": 2.089005708694458,
          "date": "2010-01-16T00:00:00",
          "mean": 2.089005708694458,
          "month": 1
         },
         {
          "cum_sum": 5.906607627868652,
          "date": "2010-02-16T00:00:00",
          "mean": 3.8176021575927734,
          "month": 3
         },
         {
          "cum_sum": 13.25801944732666,
          "date": "2010-03-16T00:00:00",
          "mean": 7.351411819458008,
          "month": 6
         },
         {
          "cum_sum": 26.79751968383789,
          "date": "2010-04-16T00:00:00",
          "mean": 13.53950023651123,
          "month": 10
         },
         {
          "cum_sum": 44.20286560058594,
          "date": "2010-05-16T00:00:00",
          "mean": 17.405345916748047,
          "month": 15
         },
         {
          "cum_sum": 66.07667541503906,
          "date": "2010-06-16T00:00:00",
          "mean": 21.87380599975586,
          "month": 21
         },
         {
          "cum_sum": 90.86359405517578,
          "date": "2010-07-16T00:00:00",
          "mean": 24.786922454833984,
          "month": 28
         },
         {
          "cum_sum": 120.5887680053711,
          "date": "2010-08-16T00:00:00",
          "mean": 29.725173950195312,
          "month": 36
         },
         {
          "cum_sum": 155.54855346679688,
          "date": "2010-09-16T00:00:00",
          "mean": 34.95978546142578,
          "month": 45
         },
         {
          "cum_sum": 193.98947143554688,
          "date": "2010-10-16T00:00:00",
          "mean": 38.44091033935547,
          "month": 55
         },
         {
          "cum_sum": 237.42315673828125,
          "date": "2010-11-16T00:00:00",
          "mean": 43.433692932128906,
          "month": 66
         },
         {
          "cum_sum": 283.6670837402344,
          "date": "2010-12-16T00:00:00",
          "mean": 46.24391174316406,
          "month": 78
         },
         {
          "cum_sum": 2.2093374729156494,
          "date": "2011-01-16T00:00:00",
          "mean": 2.2093374729156494,
          "month": 1
         },
         {
          "cum_sum": 8.90798568725586,
          "date": "2011-02-16T00:00:00",
          "mean": 6.698648452758789,
          "month": 3
         },
         {
          "cum_sum": 17.80161476135254,
          "date": "2011-03-16T00:00:00",
          "mean": 8.893628120422363,
          "month": 6
         },
         {
          "cum_sum": 32.50632858276367,
          "date": "2011-04-16T00:00:00",
          "mean": 14.704712867736816,
          "month": 10
         },
         {
          "cum_sum": 52.93400955200195,
          "date": "2011-05-16T00:00:00",
          "mean": 20.42768096923828,
          "month": 15
         },
         {
          "cum_sum": 75.80827331542969,
          "date": "2011-06-16T00:00:00",
          "mean": 22.874267578125,
          "month": 21
         },
         {
          "cum_sum": 105.35916137695312,
          "date": "2011-07-16T00:00:00",
          "mean": 29.550888061523438,
          "month": 28
         },
         {
          "cum_sum": 138.48394775390625,
          "date": "2011-08-16T00:00:00",
          "mean": 33.124786376953125,
          "month": 36
         },
         {
          "cum_sum": 175.15267944335938,
          "date": "2011-09-16T00:00:00",
          "mean": 36.668731689453125,
          "month": 45
         },
         {
          "cum_sum": 216.85658264160156,
          "date": "2011-10-16T00:00:00",
          "mean": 41.70390319824219,
          "month": 55
         },
         {
          "cum_sum": 261.9768371582031,
          "date": "2011-11-16T00:00:00",
          "mean": 45.120243072509766,
          "month": 66
         },
         {
          "cum_sum": 309.22015380859375,
          "date": "2011-12-16T00:00:00",
          "mean": 47.24333572387695,
          "month": 78
         },
         {
          "cum_sum": 1.4861122369766235,
          "date": "2012-01-16T00:00:00",
          "mean": 1.4861122369766235,
          "month": 1
         },
         {
          "cum_sum": 4.627191543579102,
          "date": "2012-02-16T00:00:00",
          "mean": 3.1410794258117676,
          "month": 3
         },
         {
          "cum_sum": 9.972475051879883,
          "date": "2012-03-16T00:00:00",
          "mean": 5.345283508300781,
          "month": 6
         },
         {
          "cum_sum": 18.76874351501465,
          "date": "2012-04-16T00:00:00",
          "mean": 8.796268463134766,
          "month": 10
         },
         {
          "cum_sum": 30.40390396118164,
          "date": "2012-05-16T00:00:00",
          "mean": 11.635159492492676,
          "month": 15
         },
         {
          "cum_sum": 45.63615036010742,
          "date": "2012-06-16T00:00:00",
          "mean": 15.232247352600098,
          "month": 21
         },
         {
          "cum_sum": 64.34674835205078,
          "date": "2012-07-16T00:00:00",
          "mean": 18.710596084594727,
          "month": 28
         },
         {
          "cum_sum": 85.67520141601562,
          "date": "2012-08-16T00:00:00",
          "mean": 21.32845115661621,
          "month": 36
         },
         {
          "cum_sum": 110.11614990234375,
          "date": "2012-09-16T00:00:00",
          "mean": 24.440950393676758,
          "month": 45
         },
         {
          "cum_sum": 136.53753662109375,
          "date": "2012-10-16T00:00:00",
          "mean": 26.421384811401367,
          "month": 55
         },
         {
          "cum_sum": 165.06089782714844,
          "date": "2012-11-16T00:00:00",
          "mean": 28.523359298706055,
          "month": 66
         },
         {
          "cum_sum": 194.72300720214844,
          "date": "2012-12-16T00:00:00",
          "mean": 29.662109375,
          "month": 78
         },
         {
          "cum_sum": 2.344217538833618,
          "date": "2013-01-16T00:00:00",
          "mean": 2.344217538833618,
          "month": 1
         },
         {
          "cum_sum": 7.746697425842285,
          "date": "2013-02-16T00:00:00",
          "mean": 5.402479648590088,
          "month": 3
         },
         {
          "cum_sum": 22.318117141723633,
          "date": "2013-03-16T00:00:00",
          "mean": 14.571420669555664,
          "month": 6
         },
         {
          "cum_sum": 40.07864761352539,
          "date": "2013-04-16T00:00:00",
          "mean": 17.760530471801758,
          "month": 10
         },
         {
          "cum_sum": 64.85462951660156,
          "date": "2013-05-16T00:00:00",
          "mean": 24.77597999572754,
          "month": 15
         },
         {
          "cum_sum": 94.67526245117188,
          "date": "2013-06-16T00:00:00",
          "mean": 29.82063102722168,
          "month": 21
         },
         {
          "cum_sum": 127.2084732055664,
          "date": "2013-07-16T00:00:00",
          "mean": 32.53321075439453,
          "month": 28
         },
         {
          "cum_sum": 162.08941650390625,
          "date": "2013-08-16T00:00:00",
          "mean": 34.880950927734375,
          "month": 36
         },
         {
          "cum_sum": 203.5101318359375,
          "date": "2013-09-16T00:00:00",
          "mean": 41.42070770263672,
          "month": 45
         },
         {
          "cum_sum": 252.8426971435547,
          "date": "2013-10-16T00:00:00",
          "mean": 49.33257293701172,
          "month": 55
         },
         {
          "cum_sum": 304.73736572265625,
          "date": "2013-11-16T00:00:00",
          "mean": 51.894649505615234,
          "month": 66
         },
         {
          "cum_sum": 358.1136779785156,
          "date": "2013-12-16T00:00:00",
          "mean": 53.3763313293457,
          "month": 78
         },
         {
          "cum_sum": 1.5886213779449463,
          "date": "2014-01-16T00:00:00",
          "mean": 1.5886213779449463,
          "month": 1
         },
         {
          "cum_sum": 5.572575092315674,
          "date": "2014-02-16T00:00:00",
          "mean": 3.9839537143707275,
          "month": 3
         },
         {
          "cum_sum": 14.516260147094727,
          "date": "2014-03-16T00:00:00",
          "mean": 8.943685531616211,
          "month": 6
         },
         {
          "cum_sum": 29.741361618041992,
          "date": "2014-04-16T00:00:00",
          "mean": 15.22510051727295,
          "month": 10
         },
         {
          "cum_sum": 52.290164947509766,
          "date": "2014-05-16T00:00:00",
          "mean": 22.548805236816406,
          "month": 15
         },
         {
          "cum_sum": 79.94116973876953,
          "date": "2014-06-16T00:00:00",
          "mean": 27.651004791259766,
          "month": 21
         },
         {
          "cum_sum": 108.73400115966797,
          "date": "2014-07-16T00:00:00",
          "mean": 28.792829513549805,
          "month": 28
         },
         {
          "cum_sum": 138.59129333496094,
          "date": "2014-08-16T00:00:00",
          "mean": 29.8572998046875,
          "month": 36
         },
         {
          "cum_sum": 169.59796142578125,
          "date": "2014-09-16T00:00:00",
          "mean": 31.006668090820312,
          "month": 45
         },
         {
          "cum_sum": 201.69558715820312,
          "date": "2014-10-16T00:00:00",
          "mean": 32.09762191772461,
          "month": 55
         },
         {
          "cum_sum": 234.9475860595703,
          "date": "2014-11-16T00:00:00",
          "mean": 33.25200271606445,
          "month": 66
         },
         {
          "cum_sum": 269.2040710449219,
          "date": "2014-12-16T00:00:00",
          "mean": 34.2564697265625,
          "month": 78
         },
         {
          "cum_sum": 1.237500786781311,
          "date": "2015-01-16T00:00:00",
          "mean": 1.237500786781311,
          "month": 1
         },
         {
          "cum_sum": 3.782402992248535,
          "date": "2015-02-16T00:00:00",
          "mean": 2.5449020862579346,
          "month": 3
         },
         {
          "cum_sum": 11.91675090789795,
          "date": "2015-03-16T00:00:00",
          "mean": 8.134347915649414,
          "month": 6
         },
         {
          "cum_sum": 28.58283233642578,
          "date": "2015-04-16T00:00:00",
          "mean": 16.66608238220215,
          "month": 10
         },
         {
          "cum_sum": 49.08279037475586,
          "date": "2015-05-16T00:00:00",
          "mean": 20.499958038330078,
          "month": 15
         },
         {
          "cum_sum": 73.72750091552734,
          "date": "2015-06-16T00:00:00",
          "mean": 24.644712448120117,
          "month": 21
         },
         {
          "cum_sum": 99.514892578125,
          "date": "2015-07-16T00:00:00",
          "mean": 25.78738784790039,
          "month": 28
         },
         {
          "cum_sum": 126.30921173095703,
          "date": "2015-08-16T00:00:00",
          "mean": 26.794322967529297,
          "month": 36
         },
         {
          "cum_sum": 155.4931640625,
          "date": "2015-09-16T00:00:00",
          "mean": 29.183942794799805,
          "month": 45
         },
         {
          "cum_sum": 185.70025634765625,
          "date": "2015-10-16T00:00:00",
          "mean": 30.207101821899414,
          "month": 55
         },
         {
          "cum_sum": 217.39932250976562,
          "date": "2015-11-16T00:00:00",
          "mean": 31.699068069458008,
          "month": 66
         },
         {
          "cum_sum": 249.9154815673828,
          "date": "2015-12-16T00:00:00",
          "mean": 32.51615524291992,
          "month": 78
         },
         {
          "cum_sum": 0.7352538704872131,
          "date": "2016-01-16T00:00:00",
          "mean": 0.7352538704872131,
          "month": 1
         },
         {
          "cum_sum": 2.6993210315704346,
          "date": "2016-02-16T00:00:00",
          "mean": 1.9640672206878662,
          "month": 3
         },
         {
          "cum_sum": 7.048759460449219,
          "date": "2016-03-16T00:00:00",
          "mean": 4.349438190460205,
          "month": 6
         },
         {
          "cum_sum": 15.859230995178223,
          "date": "2016-04-16T00:00:00",
          "mean": 8.810471534729004,
          "month": 10
         },
         {
          "cum_sum": 26.69805145263672,
          "date": "2016-05-16T00:00:00",
          "mean": 10.838820457458496,
          "month": 15
         },
         {
          "cum_sum": 42.66965103149414,
          "date": "2016-06-16T00:00:00",
          "mean": 15.971598625183105,
          "month": 21
         },
         {
          "cum_sum": 61.80621337890625,
          "date": "2016-07-16T00:00:00",
          "mean": 19.136564254760742,
          "month": 28
         },
         {
          "cum_sum": 83.03973388671875,
          "date": "2016-08-16T00:00:00",
          "mean": 21.2335205078125,
          "month": 36
         },
         {
          "cum_sum": 108.53733825683594,
          "date": "2016-09-16T00:00:00",
          "mean": 25.497602462768555,
          "month": 45
         },
         {
          "cum_sum": 140.87088012695312,
          "date": "2016-10-16T00:00:00",
          "mean": 32.33354187011719,
          "month": 55
         },
         {
          "cum_sum": 177.31019592285156,
          "date": "2016-11-16T00:00:00",
          "mean": 36.4393196105957,
          "month": 66
         },
         {
          "cum_sum": 217.35630798339844,
          "date": "2016-12-16T00:00:00",
          "mean": 40.046104431152344,
          "month": 78
         },
         {
          "cum_sum": 1.6859192848205566,
          "date": "2017-01-16T00:00:00",
          "mean": 1.6859192848205566,
          "month": 1
         },
         {
          "cum_sum": 4.78584623336792,
          "date": "2017-02-16T00:00:00",
          "mean": 3.0999269485473633,
          "month": 3
         },
         {
          "cum_sum": 11.279394149780273,
          "date": "2017-03-16T00:00:00",
          "mean": 6.493548393249512,
          "month": 6
         },
         {
          "cum_sum": 21.499616622924805,
          "date": "2017-04-16T00:00:00",
          "mean": 10.220221519470215,
          "month": 10
         },
         {
          "cum_sum": 37.283573150634766,
          "date": "2017-05-16T00:00:00",
          "mean": 15.783957481384277,
          "month": 15
         },
         {
          "cum_sum": 57.1796989440918,
          "date": "2017-06-16T00:00:00",
          "mean": 19.8961238861084,
          "month": 21
         },
         {
          "cum_sum": 82.41136169433594,
          "date": "2017-07-16T00:00:00",
          "mean": 25.231660842895508,
          "month": 28
         },
         {
          "cum_sum": 112.2019271850586,
          "date": "2017-08-16T00:00:00",
          "mean": 29.790571212768555,
          "month": 36
         },
         {
          "cum_sum": 146.47276306152344,
          "date": "2017-09-16T00:00:00",
          "mean": 34.27082824707031,
          "month": 45
         },
         {
          "cum_sum": 187.6564178466797,
          "date": "2017-10-16T00:00:00",
          "mean": 41.18366241455078,
          "month": 55
         },
         {
          "cum_sum": 233.12890625,
          "date": "2017-11-16T00:00:00",
          "mean": 45.47249221801758,
          "month": 66
         },
         {
          "cum_sum": 280.3388977050781,
          "date": "2017-12-16T00:00:00",
          "mean": 47.209991455078125,
          "month": 78
         },
         {
          "cum_sum": 2.1250598430633545,
          "date": "2018-01-16T00:00:00",
          "mean": 2.1250598430633545,
          "month": 1
         },
         {
          "cum_sum": 6.341213226318359,
          "date": "2018-02-16T00:00:00",
          "mean": 4.216153144836426,
          "month": 3
         },
         {
          "cum_sum": 12.460684776306152,
          "date": "2018-03-16T00:00:00",
          "mean": 6.119472026824951,
          "month": 6
         },
         {
          "cum_sum": 23.6693058013916,
          "date": "2018-04-16T00:00:00",
          "mean": 11.20862102508545,
          "month": 10
         },
         {
          "cum_sum": 39.90835952758789,
          "date": "2018-05-16T00:00:00",
          "mean": 16.239051818847656,
          "month": 15
         },
         {
          "cum_sum": 61.85517883300781,
          "date": "2018-06-16T00:00:00",
          "mean": 21.946821212768555,
          "month": 21
         },
         {
          "cum_sum": 86.45105743408203,
          "date": "2018-07-16T00:00:00",
          "mean": 24.59587860107422,
          "month": 28
         },
         {
          "cum_sum": 116.05780029296875,
          "date": "2018-08-16T00:00:00",
          "mean": 29.606740951538086,
          "month": 36
         },
         {
          "cum_sum": 151.7561492919922,
          "date": "2018-09-16T00:00:00",
          "mean": 35.69835662841797,
          "month": 45
         },
         {
          "cum_sum": 190.12844848632812,
          "date": "2018-10-16T00:00:00",
          "mean": 38.372291564941406,
          "month": 55
         },
         {
          "cum_sum": 233.79701232910156,
          "date": "2018-11-16T00:00:00",
          "mean": 43.66856002807617,
          "month": 66
         },
         {
          "cum_sum": 278.4178161621094,
          "date": "2018-12-16T00:00:00",
          "mean": 44.620819091796875,
          "month": 78
         },
         {
          "cum_sum": 1.225554347038269,
          "date": "2019-01-16T00:00:00",
          "mean": 1.225554347038269,
          "month": 1
         },
         {
          "cum_sum": 3.4962258338928223,
          "date": "2019-02-16T00:00:00",
          "mean": 2.2706713676452637,
          "month": 3
         }
        ]
       },
       "encoding": {
        "color": {
         "field": "date",
         "legend": {
          "title": "Year"
         },
         "timeUnit": "year",
         "type": "ordinal"
        },
        "order": {
         "field": "date",
         "timeUnit": "year",
         "type": "ordinal"
        },
        "tooltip": [
         {
          "field": "date",
          "timeUnit": "yearmonth",
          "title": "Date",
          "type": "temporal"
         },
         {
          "field": "cum_sum",
          "title": "Cumulative Chl-a",
          "type": "quantitative"
         }
        ],
        "x": {
         "axis": {
          "format": "%B"
         },
         "field": "date",
         "timeUnit": "month",
         "title": "Month",
         "type": "ordinal"
        },
        "y": {
         "field": "cum_sum",
         "stack": null,
         "title": "Cumulative Chl",
         "type": "quantitative"
        }
       },
       "mark": "line",
       "width": 400
      },
      "image/png": "[encoded data removed]",
      "text/plain": [
       "<VegaLite 2 object>\n",
       "\n",
       "If you see this message, it means the renderer has not been properly enabled\n",
       "for the frontend that you are using. For more information, see\n",
       "https://altair-viz.github.io/user_guide/troubleshooting.html\n"
      ]
     },
     "execution_count": 74,
     "metadata": {},
     "output_type": "execute_result"
    }
   ],
   "source": [
    "alt.Chart(month_sum).mark_line().encode(\n",
    "    alt.X('date:O', timeUnit=\"month\", title='Month', axis=alt.Axis(format='%B')),\n",
    "    alt.Y('cum_sum:Q', title='Cumulative Chl', stack=None),\n",
    "    alt.Color('year(date):O', legend=alt.Legend(title='Year')),\n",
    "    alt.Order('year(date):O'),\n",
    "    tooltip = [\n",
    "        alt.Tooltip('yearmonth(date)', title='Date'),\n",
    "        alt.Tooltip('cum_sum:Q',title='Cumulative Chl-a')\n",
    "    ]\n",
    ").properties(width=400)"
   ]
  },
  {
   "cell_type": "code",
   "execution_count": null,
   "metadata": {},
   "outputs": [],
   "source": []
  }
 ],
 "metadata": {
  "kernelspec": {
   "display_name": "Python 3",
   "language": "python",
   "name": "python3"
  },
  "language_info": {
   "codemirror_mode": {
    "name": "ipython",
    "version": 3
   },
   "file_extension": ".py",
   "mimetype": "text/x-python",
   "name": "python",
   "nbconvert_exporter": "python",
   "pygments_lexer": "ipython3",
   "version": "3.6.7"
  }
 },
 "nbformat": 4,
 "nbformat_minor": 2
}
